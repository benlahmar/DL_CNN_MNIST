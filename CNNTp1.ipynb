{
 "cells": [
  {
   "cell_type": "code",
   "execution_count": 1,
   "metadata": {},
   "outputs": [],
   "source": [
    "import numpy as np\n",
    "from tensorflow import keras\n",
    "from tensorflow.keras.datasets import mnist\n",
    "from tensorflow.keras.utils import to_categorical\n",
    "from tensorflow.keras import backend as K\n",
    "\n",
    "from tensorflow.keras.models import Sequential\n",
    "from tensorflow.keras.layers import Dense\n",
    "from tensorflow.keras.layers import Dropout\n",
    "from tensorflow.keras.layers import Flatten\n",
    "from tensorflow.keras.layers import Conv2D\n",
    "from tensorflow.keras.layers import MaxPooling2D"
   ]
  },
  {
   "cell_type": "code",
   "execution_count": 2,
   "metadata": {},
   "outputs": [],
   "source": [
    "(X_train, y_train), (X_test, y_test) = mnist.load_data()"
   ]
  },
  {
   "cell_type": "code",
   "execution_count": 3,
   "metadata": {},
   "outputs": [
    {
     "data": {
      "text/plain": [
       "array([7, 2, 1, ..., 4, 5, 6], dtype=uint8)"
      ]
     },
     "execution_count": 3,
     "metadata": {},
     "output_type": "execute_result"
    }
   ],
   "source": [
    "y_test"
   ]
  },
  {
   "cell_type": "code",
   "execution_count": 5,
   "metadata": {},
   "outputs": [],
   "source": [
    "def get_and_prepare_data_mnist():\n",
    "    # load data\n",
    "    (X_train, y_train), (X_test, y_test) = mnist.load_data()\n",
    "    # reshape to be [samples][pixels][width][height]\n",
    "    X_train = X_train.reshape(X_train.shape[0], 28, 28,1).astype('float32')\n",
    "    X_test = X_test.reshape(X_test.shape[0], 28, 28,1).astype('float32')\n",
    "    \n",
    "    # normalize inputs from 0-255 to 0-1\n",
    "    X_train = X_train / 255\n",
    "    X_test = X_test / 255\n",
    "    # one hot encode outputs\n",
    "    \n",
    "    y_train = to_categorical(y_train)\n",
    "    y_test = to_categorical(y_test)\n",
    "    num_classes = y_test.shape[1]\n",
    "    return (X_train, y_train), (X_test, y_test), num_classes"
   ]
  },
  {
   "cell_type": "code",
   "execution_count": null,
   "metadata": {},
   "outputs": [],
   "source": []
  },
  {
   "cell_type": "code",
   "execution_count": 6,
   "metadata": {},
   "outputs": [],
   "source": [
    "(X_train, y_train), (X_test, y_test), num_classes = get_and_prepare_data_mnist()"
   ]
  },
  {
   "cell_type": "code",
   "execution_count": 7,
   "metadata": {},
   "outputs": [
    {
     "data": {
      "text/plain": [
       "10"
      ]
     },
     "execution_count": 7,
     "metadata": {},
     "output_type": "execute_result"
    }
   ],
   "source": [
    "num_classes"
   ]
  },
  {
   "cell_type": "markdown",
   "metadata": {},
   "source": [
    "Definir un petit modele"
   ]
  },
  {
   "cell_type": "code",
   "execution_count": 8,
   "metadata": {},
   "outputs": [],
   "source": [
    "\n",
    "def small_model():\n",
    "    # create model\n",
    "    #create model\n",
    "    model = Sequential()\n",
    "    #add model layers\n",
    "    model.add(Conv2D(64, kernel_size=3, activation='relu', input_shape=(28,28,1)))\n",
    "    model.add(Conv2D(32, kernel_size=3, activation='relu'))\n",
    "    model.add(Flatten())\n",
    "    model.add(Dense(10, activation='softmax'))\n",
    "    # Compile model\n",
    "    model.compile(loss='categorical_crossentropy', optimizer='adam', metrics=['accuracy'])\n",
    "    return model"
   ]
  },
  {
   "cell_type": "markdown",
   "metadata": {},
   "source": [
    "creation du modele"
   ]
  },
  {
   "cell_type": "code",
   "execution_count": 9,
   "metadata": {},
   "outputs": [],
   "source": [
    "model = small_model()"
   ]
  },
  {
   "cell_type": "code",
   "execution_count": 10,
   "metadata": {},
   "outputs": [
    {
     "name": "stdout",
     "output_type": "stream",
     "text": [
      "Model: \"sequential\"\n",
      "_________________________________________________________________\n",
      " Layer (type)                Output Shape              Param #   \n",
      "=================================================================\n",
      " conv2d (Conv2D)             (None, 26, 26, 64)        640       \n",
      "                                                                 \n",
      " conv2d_1 (Conv2D)           (None, 24, 24, 32)        18464     \n",
      "                                                                 \n",
      " flatten (Flatten)           (None, 18432)             0         \n",
      "                                                                 \n",
      " dense (Dense)               (None, 10)                184330    \n",
      "                                                                 \n",
      "=================================================================\n",
      "Total params: 203,434\n",
      "Trainable params: 203,434\n",
      "Non-trainable params: 0\n",
      "_________________________________________________________________\n",
      "None\n"
     ]
    }
   ],
   "source": [
    "print(model.summary())"
   ]
  },
  {
   "cell_type": "code",
   "execution_count": null,
   "metadata": {},
   "outputs": [],
   "source": [
    "model."
   ]
  },
  {
   "cell_type": "code",
   "execution_count": 18,
   "metadata": {},
   "outputs": [
    {
     "name": "stdout",
     "output_type": "stream",
     "text": [
      "Train on 60000 samples, validate on 10000 samples\n",
      "Epoch 1/10\n",
      "60000/60000 [==============================] - 85s 1ms/sample - loss: 0.2365 - accuracy: 0.9317 - val_loss: 0.0690 - val_accuracy: 0.9782\n",
      "Epoch 2/10\n",
      "60000/60000 [==============================] - 84s 1ms/sample - loss: 0.0663 - accuracy: 0.9797 - val_loss: 0.0540 - val_accuracy: 0.9823\n",
      "Epoch 3/10\n",
      "60000/60000 [==============================] - 83s 1ms/sample - loss: 0.0463 - accuracy: 0.9857 - val_loss: 0.0485 - val_accuracy: 0.9843\n",
      "Epoch 4/10\n",
      "60000/60000 [==============================] - 84s 1ms/sample - loss: 0.0341 - accuracy: 0.9894 - val_loss: 0.0491 - val_accuracy: 0.9844\n",
      "Epoch 5/10\n",
      "60000/60000 [==============================] - 85s 1ms/sample - loss: 0.0271 - accuracy: 0.9913 - val_loss: 0.0477 - val_accuracy: 0.9850\n",
      "Epoch 6/10\n",
      "60000/60000 [==============================] - 83s 1ms/sample - loss: 0.0207 - accuracy: 0.9936 - val_loss: 0.0418 - val_accuracy: 0.9870\n",
      "Epoch 7/10\n",
      "60000/60000 [==============================] - 84s 1ms/sample - loss: 0.0170 - accuracy: 0.9947 - val_loss: 0.0508 - val_accuracy: 0.9862\n",
      "Epoch 8/10\n",
      "60000/60000 [==============================] - 84s 1ms/sample - loss: 0.0121 - accuracy: 0.9964 - val_loss: 0.0484 - val_accuracy: 0.9869\n",
      "Epoch 9/10\n",
      "60000/60000 [==============================] - 85s 1ms/sample - loss: 0.0097 - accuracy: 0.9969 - val_loss: 0.0471 - val_accuracy: 0.9865\n",
      "Epoch 10/10\n",
      "60000/60000 [==============================] - 83s 1ms/sample - loss: 0.0092 - accuracy: 0.9968 - val_loss: 0.0508 - val_accuracy: 0.9867\n"
     ]
    }
   ],
   "source": [
    "# Fit the model\n",
    "\n",
    "history= model.fit(X_train, y_train, validation_data=(X_test, y_test), epochs=10, batch_size=200)"
   ]
  },
  {
   "cell_type": "code",
   "execution_count": 20,
   "metadata": {},
   "outputs": [],
   "source": [
    "# evaluate model\n",
    "\n",
    "_ , acc = model.evaluate(X_test, y_test, verbose=0)"
   ]
  },
  {
   "cell_type": "code",
   "execution_count": 21,
   "metadata": {},
   "outputs": [
    {
     "name": "stdout",
     "output_type": "stream",
     "text": [
      "> 98.670\n"
     ]
    }
   ],
   "source": [
    "print('> %.3f' % (acc * 100.0))"
   ]
  },
  {
   "cell_type": "code",
   "execution_count": 22,
   "metadata": {},
   "outputs": [
    {
     "name": "stdout",
     "output_type": "stream",
     "text": [
      "dict_keys(['loss', 'accuracy', 'val_loss', 'val_accuracy'])\n"
     ]
    }
   ],
   "source": [
    "print(history.history.keys())"
   ]
  },
  {
   "cell_type": "code",
   "execution_count": 23,
   "metadata": {},
   "outputs": [
    {
     "data": {
      "image/png": "[encoded data removed]",
      "text/plain": [
       "<Figure size 432x288 with 1 Axes>"
      ]
     },
     "metadata": {
      "needs_background": "light"
     },
     "output_type": "display_data"
    },
    {
     "data": {
      "image/png": "[encoded data removed]",
      "text/plain": [
       "<Figure size 432x288 with 1 Axes>"
      ]
     },
     "metadata": {
      "needs_background": "light"
     },
     "output_type": "display_data"
    }
   ],
   "source": [
    "import matplotlib.pyplot as plt\n",
    "plt.plot(history.history['accuracy'])\n",
    "plt.plot(history.history['val_accuracy'])\n",
    "plt.title('model accuracy')\n",
    "plt.ylabel('accuracy')\n",
    "plt.xlabel('epoch')\n",
    "plt.legend(['train', 'test'], loc='upper left')\n",
    "plt.show()\n",
    "# summarize history for loss\n",
    "plt.plot(history.history['loss'])\n",
    "plt.plot(history.history['val_loss'])\n",
    "plt.title('model loss')\n",
    "plt.ylabel('loss')\n",
    "plt.xlabel('epoch')\n",
    "plt.legend(['train', 'test'], loc='upper left')\n",
    "plt.show()"
   ]
  },
  {
   "cell_type": "markdown",
   "metadata": {},
   "source": [
    "Definir un  modele plus large\n"
   ]
  },
  {
   "cell_type": "code",
   "execution_count": 28,
   "metadata": {},
   "outputs": [],
   "source": [
    "def large_model():\n",
    "    # create model\n",
    "    model = Sequential()\n",
    "    model.add(Conv2D(32, (3, 3), activation='relu', kernel_initializer='he_uniform', input_shape=(28, 28, 1)))\n",
    "    model.add(MaxPooling2D((2, 2)))\n",
    "    model.add(Conv2D(64, (3, 3), activation='relu', kernel_initializer='he_uniform'))\n",
    "    model.add(Conv2D(64, (3, 3), activation='relu', kernel_initializer='he_uniform'))\n",
    "    model.add(MaxPooling2D((2, 2)))\n",
    "    #model.add(Dropout(0.2))\n",
    "    model.add(Flatten())\n",
    "    model.add(Dense(100, activation='relu', kernel_initializer='he_uniform'))\n",
    "    model.add(Dense(10, activation='softmax'))\n",
    "    \n",
    "    # Compile model\n",
    "    model.compile(loss='categorical_crossentropy', optimizer='adam', metrics=['accuracy'])\n",
    "    return model"
   ]
  },
  {
   "cell_type": "code",
   "execution_count": 29,
   "metadata": {},
   "outputs": [],
   "source": [
    "modellg= large_model()"
   ]
  },
  {
   "cell_type": "code",
   "execution_count": null,
   "metadata": {},
   "outputs": [],
   "source": []
  },
  {
   "cell_type": "code",
   "execution_count": 32,
   "metadata": {},
   "outputs": [
    {
     "data": {
      "text/plain": [
       "tensorflow.python.keras.engine.sequential.Sequential"
      ]
     },
     "execution_count": 32,
     "metadata": {},
     "output_type": "execute_result"
    }
   ],
   "source": []
  },
  {
   "cell_type": "code",
   "execution_count": 30,
   "metadata": {},
   "outputs": [
    {
     "name": "stdout",
     "output_type": "stream",
     "text": [
      "Model: \"sequential_3\"\n",
      "_________________________________________________________________\n",
      "Layer (type)                 Output Shape              Param #   \n",
      "=================================================================\n",
      "conv2d_3 (Conv2D)            (None, 26, 26, 32)        320       \n",
      "_________________________________________________________________\n",
      "max_pooling2d (MaxPooling2D) (None, 13, 13, 32)        0         \n",
      "_________________________________________________________________\n",
      "conv2d_4 (Conv2D)            (None, 11, 11, 64)        18496     \n",
      "_________________________________________________________________\n",
      "conv2d_5 (Conv2D)            (None, 9, 9, 64)          36928     \n",
      "_________________________________________________________________\n",
      "max_pooling2d_1 (MaxPooling2 (None, 4, 4, 64)          0         \n",
      "_________________________________________________________________\n",
      "flatten_1 (Flatten)          (None, 1024)              0         \n",
      "_________________________________________________________________\n",
      "dense_1 (Dense)              (None, 100)               102500    \n",
      "_________________________________________________________________\n",
      "dense_2 (Dense)              (None, 10)                1010      \n",
      "=================================================================\n",
      "Total params: 159,254\n",
      "Trainable params: 159,254\n",
      "Non-trainable params: 0\n",
      "_________________________________________________________________\n",
      "None\n"
     ]
    }
   ],
   "source": [
    "print(modellg.summary())"
   ]
  },
  {
   "cell_type": "code",
   "execution_count": 31,
   "metadata": {},
   "outputs": [
    {
     "name": "stdout",
     "output_type": "stream",
     "text": [
      "Train on 60000 samples, validate on 10000 samples\n",
      "Epoch 1/10\n",
      "60000/60000 [==============================] - 65s 1ms/sample - loss: 0.1954 - accuracy: 0.9414 - val_loss: 0.0618 - val_accuracy: 0.9818\n",
      "Epoch 2/10\n",
      "60000/60000 [==============================] - 66s 1ms/sample - loss: 0.0507 - accuracy: 0.9841 - val_loss: 0.0517 - val_accuracy: 0.9840\n",
      "Epoch 3/10\n",
      "60000/60000 [==============================] - 65s 1ms/sample - loss: 0.0347 - accuracy: 0.9893 - val_loss: 0.0337 - val_accuracy: 0.9878\n",
      "Epoch 4/10\n",
      "60000/60000 [==============================] - 66s 1ms/sample - loss: 0.0251 - accuracy: 0.9920 - val_loss: 0.0298 - val_accuracy: 0.9900\n",
      "Epoch 5/10\n",
      "60000/60000 [==============================] - 65s 1ms/sample - loss: 0.0195 - accuracy: 0.9937 - val_loss: 0.0315 - val_accuracy: 0.9902\n",
      "Epoch 6/10\n",
      "60000/60000 [==============================] - 66s 1ms/sample - loss: 0.0143 - accuracy: 0.9953 - val_loss: 0.0385 - val_accuracy: 0.9896\n",
      "Epoch 7/10\n",
      "60000/60000 [==============================] - 64s 1ms/sample - loss: 0.0135 - accuracy: 0.9953 - val_loss: 0.0302 - val_accuracy: 0.9904\n",
      "Epoch 8/10\n",
      "60000/60000 [==============================] - 65s 1ms/sample - loss: 0.0097 - accuracy: 0.9968 - val_loss: 0.0312 - val_accuracy: 0.9910\n",
      "Epoch 9/10\n",
      "60000/60000 [==============================] - 68s 1ms/sample - loss: 0.0077 - accuracy: 0.9976 - val_loss: 0.0414 - val_accuracy: 0.9896\n",
      "Epoch 10/10\n",
      "60000/60000 [==============================] - 66s 1ms/sample - loss: 0.0082 - accuracy: 0.9973 - val_loss: 0.0315 - val_accuracy: 0.9917\n"
     ]
    }
   ],
   "source": [
    "historylg= modellg.fit(X_train, y_train, validation_data=(X_test, y_test), epochs=10, batch_size=200)"
   ]
  },
  {
   "cell_type": "code",
   "execution_count": 87,
   "metadata": {},
   "outputs": [
    {
     "name": "stdout",
     "output_type": "stream",
     "text": [
      "> 98.780\n"
     ]
    }
   ],
   "source": [
    "# evaluate model\n",
    "_ , acc = model.evaluate(X_test, y_test, verbose=0)\n",
    "print('> %.3f' % (acc * 100.0))"
   ]
  },
  {
   "cell_type": "code",
   "execution_count": 88,
   "metadata": {},
   "outputs": [
    {
     "data": {
      "image/png": "[encoded data removed]",
      "text/plain": [
       "<Figure size 432x288 with 1 Axes>"
      ]
     },
     "metadata": {
      "needs_background": "light"
     },
     "output_type": "display_data"
    },
    {
     "data": {
      "image/png": "[encoded data removed]",
      "text/plain": [
       "<Figure size 432x288 with 1 Axes>"
      ]
     },
     "metadata": {
      "needs_background": "light"
     },
     "output_type": "display_data"
    }
   ],
   "source": [
    "import matplotlib.pyplot as plt\n",
    "plt.plot(historylg.history['accuracy'])\n",
    "plt.plot(historylg.history['val_accuracy'])\n",
    "plt.title('model accuracy')\n",
    "plt.ylabel('accuracy')\n",
    "plt.xlabel('epoch')\n",
    "plt.legend(['train', 'test'], loc='upper left')\n",
    "plt.show()\n",
    "# summarize history for loss\n",
    "plt.plot(historylg.history['loss'])\n",
    "plt.plot(historylg.history['val_loss'])\n",
    "plt.title('model loss')\n",
    "plt.ylabel('loss')\n",
    "plt.xlabel('epoch')\n",
    "plt.legend(['train', 'test'], loc='upper left')\n",
    "plt.show()"
   ]
  },
  {
   "cell_type": "code",
   "execution_count": null,
   "metadata": {},
   "outputs": [],
   "source": []
  },
  {
   "cell_type": "code",
   "execution_count": 89,
   "metadata": {},
   "outputs": [],
   "source": [
    "# This function saves a model on the drive using two files : a json and an h5\n",
    "def save_keras_model(model, filename):\n",
    "    # serialize model to JSON\n",
    "    model_json = model.to_json()\n",
    "    with open(filename+\".json\", \"w\") as json_file:\n",
    "        json_file.write(model_json)\n",
    "    # serialize weights to HDF5\n",
    "    model.save_weights(filename+\".h5\")"
   ]
  },
  {
   "cell_type": "code",
   "execution_count": 93,
   "metadata": {},
   "outputs": [],
   "source": [
    "save_keras_model(modellg, 'modelmnist')"
   ]
  },
  {
   "cell_type": "markdown",
   "metadata": {},
   "source": [
    "le json pour charger l’architecture du modèle de CNN <br/>\n",
    "le h5 pour mettre à jour les variables du CNN et récupérer son entraînement "
   ]
  },
  {
   "cell_type": "code",
   "execution_count": 96,
   "metadata": {},
   "outputs": [],
   "source": [
    "# This function loads a model from two files : a json and a h5\n",
    "# BE CAREFUL : the model NEEDS TO BE COMPILED before any use !\n",
    "from keras.models import  model_from_json\n",
    "\n",
    "def load_keras_model(filename):\n",
    "    # load json and create model\n",
    "    json_file = open(filename+\".json\", 'r')\n",
    "    loaded_model_json = json_file.read()\n",
    "    json_file.close()\n",
    "    loaded_model = model_from_json(loaded_model_json)\n",
    "    # load weights into new model\n",
    "    loaded_model.load_weights(filename+\".h5\")\n",
    "    return loaded_model"
   ]
  },
  {
   "cell_type": "code",
   "execution_count": 97,
   "metadata": {},
   "outputs": [],
   "source": [
    "mymodel= load_keras_model('modelmnist')"
   ]
  },
  {
   "cell_type": "code",
   "execution_count": 98,
   "metadata": {},
   "outputs": [
    {
     "name": "stdout",
     "output_type": "stream",
     "text": [
      "Model: \"sequential_12\"\n",
      "_________________________________________________________________\n",
      "Layer (type)                 Output Shape              Param #   \n",
      "=================================================================\n",
      "conv2d_18 (Conv2D)           (None, 26, 26, 32)        320       \n",
      "_________________________________________________________________\n",
      "max_pooling2d_6 (MaxPooling2 (None, 13, 13, 32)        0         \n",
      "_________________________________________________________________\n",
      "conv2d_19 (Conv2D)           (None, 11, 11, 64)        18496     \n",
      "_________________________________________________________________\n",
      "conv2d_20 (Conv2D)           (None, 9, 9, 64)          36928     \n",
      "_________________________________________________________________\n",
      "max_pooling2d_7 (MaxPooling2 (None, 4, 4, 64)          0         \n",
      "_________________________________________________________________\n",
      "flatten_6 (Flatten)          (None, 1024)              0         \n",
      "_________________________________________________________________\n",
      "dense_12 (Dense)             (None, 100)               102500    \n",
      "_________________________________________________________________\n",
      "dense_13 (Dense)             (None, 10)                1010      \n",
      "=================================================================\n",
      "Total params: 159,254\n",
      "Trainable params: 159,254\n",
      "Non-trainable params: 0\n",
      "_________________________________________________________________\n",
      "None\n"
     ]
    }
   ],
   "source": [
    "print(mymodel.summary())"
   ]
  },
  {
   "cell_type": "markdown",
   "metadata": {},
   "source": [
    "Pour que le modèle soit utilisable, il ne reste plus qu’à le compiler "
   ]
  },
  {
   "cell_type": "code",
   "execution_count": 99,
   "metadata": {},
   "outputs": [],
   "source": [
    " mymodel.compile(loss='categorical_crossentropy', optimizer='adam', metrics=['accuracy'])"
   ]
  },
  {
   "cell_type": "code",
   "execution_count": null,
   "metadata": {},
   "outputs": [],
   "source": []
  },
  {
   "cell_type": "code",
   "execution_count": 102,
   "metadata": {},
   "outputs": [
    {
     "data": {
      "image/png": "[encoded data removed]",
      "text/plain": [
       "<Figure size 432x288 with 1 Axes>"
      ]
     },
     "metadata": {
      "needs_background": "light"
     },
     "output_type": "display_data"
    },
    {
     "data": {
      "image/png": "[encoded data removed]",
      "text/plain": [
       "<Figure size 432x288 with 1 Axes>"
      ]
     },
     "metadata": {
      "needs_background": "light"
     },
     "output_type": "display_data"
    },
    {
     "data": {
      "image/png": "[encoded data removed]",
      "text/plain": [
       "<Figure size 432x288 with 1 Axes>"
      ]
     },
     "metadata": {
      "needs_background": "light"
     },
     "output_type": "display_data"
    },
    {
     "data": {
      "image/png": "[encoded data removed]",
      "text/plain": [
       "<Figure size 432x288 with 1 Axes>"
      ]
     },
     "metadata": {
      "needs_background": "light"
     },
     "output_type": "display_data"
    }
   ],
   "source": [
    "# A few random samples\n",
    "use_samples = [5, 38, 3939, 27389]\n",
    "samples_to_predict = []\n",
    "\n",
    "# Generate plots for samples\n",
    "for sample in use_samples:\n",
    "  # Generate a plot\n",
    "  reshaped_image = X_train[sample].reshape((28, 28))\n",
    "  plt.imshow(reshaped_image)\n",
    "  plt.show()\n",
    "  # Add sample to array for prediction\n",
    "  samples_to_predict.append(X_train[sample])"
   ]
  },
  {
   "cell_type": "code",
   "execution_count": 103,
   "metadata": {},
   "outputs": [
    {
     "name": "stdout",
     "output_type": "stream",
     "text": [
      "(4, 28, 28, 1)\n"
     ]
    }
   ],
   "source": [
    "# Convert into Numpy array\n",
    "samples_to_predict = np.array(samples_to_predict)\n",
    "print(samples_to_predict.shape)"
   ]
  },
  {
   "cell_type": "code",
   "execution_count": 104,
   "metadata": {},
   "outputs": [
    {
     "name": "stdout",
     "output_type": "stream",
     "text": [
      "[[6.33004256e-14 1.97447735e-11 1.00000000e+00 1.17032006e-09\n",
      "  9.49163708e-13 4.95582443e-14 5.89178839e-15 1.83715446e-10\n",
      "  2.15886670e-10 9.14766093e-13]\n",
      " [7.07342063e-13 6.40891507e-10 2.15475120e-05 8.94719619e-07\n",
      "  5.50653834e-09 3.60749056e-16 3.90540422e-17 9.99977589e-01\n",
      "  9.49172851e-10 3.29179850e-10]\n",
      " [7.50532796e-12 5.00224201e-15 2.00855271e-15 7.50020411e-16\n",
      "  1.02947835e-16 1.79236556e-11 1.00000000e+00 1.41081715e-16\n",
      "  7.67172870e-12 6.43696208e-15]\n",
      " [4.73039155e-16 9.02211655e-14 3.18390778e-12 1.00000000e+00\n",
      "  2.53429076e-20 1.06850993e-15 5.24757838e-18 6.44757880e-15\n",
      "  3.87116623e-11 4.37743663e-15]]\n"
     ]
    }
   ],
   "source": [
    "# Generate predictions for samples\n",
    "predictions = mymodel.predict(samples_to_predict)\n",
    "print(predictions)"
   ]
  },
  {
   "cell_type": "code",
   "execution_count": 105,
   "metadata": {},
   "outputs": [
    {
     "name": "stdout",
     "output_type": "stream",
     "text": [
      "[2 7 6 3]\n"
     ]
    }
   ],
   "source": [
    "# Generate arg maxes for predictions\n",
    "classes = np.argmax(predictions, axis = 1)\n",
    "print(classes)"
   ]
  },
  {
   "cell_type": "code",
   "execution_count": null,
   "metadata": {},
   "outputs": [],
   "source": []
  }
 ],
 "metadata": {
  "kernelspec": {
   "display_name": "Python 3 (ipykernel)",
   "language": "python",
   "name": "python3"
  },
  "language_info": {
   "codemirror_mode": {
    "name": "ipython",
    "version": 3
   },
   "file_extension": ".py",
   "mimetype": "text/x-python",
   "name": "python",
   "nbconvert_exporter": "python",
   "pygments_lexer": "ipython3",
   "version": "3.9.13"
  }
 },
 "nbformat": 4,
 "nbformat_minor": 4
}
